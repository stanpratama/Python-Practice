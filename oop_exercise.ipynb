{
 "cells": [
  {
   "cell_type": "markdown",
   "source": [
    "# 1. Simplest Class Exercise\n",
    "\n",
    "Define an empty class called `Vehicle` and create two instances of it in `car` and `boat` variable.\n"
   ],
   "metadata": {}
  },
  {
   "cell_type": "code",
   "execution_count": null,
   "source": [
    "class Vehicle:\n",
    "    pass\n",
    "\n",
    "car = Vehicle()\n",
    "boat = Vehicle()\n",
    "\n",
    "print(car); print(boat)"
   ],
   "outputs": [],
   "metadata": {}
  },
  {
   "cell_type": "markdown",
   "source": [
    "# 2. First Class Practice\n",
    "\n",
    "Create a class called `Comment` that have `username`, `text` and `likes` (the default is zero) as the attribute."
   ],
   "metadata": {}
  },
  {
   "cell_type": "code",
   "execution_count": null,
   "source": [
    "# Define the Comment class below:\n",
    "class Comment:\n",
    "    def __init__(self, username, text, likes=0):\n",
    "        self.username = username\n",
    "        self.text = text\n",
    "        self.likes = likes\n",
    "\n",
    "C = Comment(\"tom_mot\", \"Hello World\", 12)\n",
    "print(C.username) #'tom_mot'\n",
    "print(C.text) #'Hello World'\n",
    "print(C.likes) #12"
   ],
   "outputs": [],
   "metadata": {}
  },
  {
   "cell_type": "markdown",
   "source": [
    "# 3. Bank Account OOP Exercise\n",
    "\n",
    "Define a new class called `BankAccount`. Each account have `owner` and `balance` attribute with default balance 0.0, it feature `deposit` where we it accepts money from the owner and `withdraw` which the owner takes money from their account.\n"
   ],
   "metadata": {}
  },
  {
   "cell_type": "code",
   "execution_count": null,
   "source": [
    "class BankAccount:\n",
    "    def __init__(self, owner, balance=0.0):\n",
    "        self.owner = owner\n",
    "        self.balance = balance\n",
    "  \n",
    "    def deposit(self, number):\n",
    "        self.balance += number\n",
    "        return f'{self.balance}'\n",
    "    \n",
    "    def withdraw(self, numbers):\n",
    "        self.balance -= numbers\n",
    "        return f'{self.balance}'\n",
    "\n",
    "acct = BankAccount('Tom')\n",
    "print(acct.balance) # 0.0\n",
    "print(acct.deposit(500)) # 500.0\n",
    "print(acct.withdraw(200)) # 300\n"
   ],
   "outputs": [],
   "metadata": {}
  },
  {
   "cell_type": "markdown",
   "source": [
    "# 4. Chicken Coop Exercise\n",
    "\n",
    "We want to keep track how many eggs each individual chicken lays and at the same time we wan to track the total number of eggs all hens have laid.\n",
    "\n",
    "1. Create Chicken Class\n",
    "2. Each Chicken have `species`, `name`, and `eggs` (default = 0).\n",
    "3. Each chicken have instance method called lay_egg() where it increment on class variable `total_eggs`.\n"
   ],
   "metadata": {}
  },
  {
   "cell_type": "code",
   "execution_count": 7,
   "source": [
    "class Chicken:\n",
    "\n",
    "    total_eggs = 0\n",
    "    \n",
    "    def __init__(self, name, species, eggs = 0):\n",
    "        self.species = species\n",
    "        self.name = name\n",
    "        self.eggs = eggs\n",
    "\n",
    "    def lay_egg(self):\n",
    "        self.eggs += 1\n",
    "        Chicken.total_eggs += 1\n",
    "        return self.eggs\n",
    "\n"
   ],
   "outputs": [],
   "metadata": {}
  }
 ],
 "metadata": {
  "orig_nbformat": 4,
  "language_info": {
   "name": "python",
   "version": "3.9.7",
   "mimetype": "text/x-python",
   "codemirror_mode": {
    "name": "ipython",
    "version": 3
   },
   "pygments_lexer": "ipython3",
   "nbconvert_exporter": "python",
   "file_extension": ".py"
  },
  "kernelspec": {
   "name": "python3",
   "display_name": "Python 3.9.6 64-bit ('base': conda)"
  },
  "interpreter": {
   "hash": "03be2e0445a1ab447361bd2ab0acfbde57e08d40c05a4921155ca10feb405bd2"
  }
 },
 "nbformat": 4,
 "nbformat_minor": 2
}