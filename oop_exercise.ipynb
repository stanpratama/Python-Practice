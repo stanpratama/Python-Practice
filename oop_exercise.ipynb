{
 "cells": [
  {
   "cell_type": "markdown",
   "source": [
    "# 1. Simplest Class Exercise\n",
    "\n",
    "Define an empty class called `Vehicle` and create two instances of it in `car` and `boat` variable.\n"
   ],
   "metadata": {}
  },
  {
   "cell_type": "code",
   "execution_count": null,
   "source": [
    "class Vehicle:\n",
    "    pass\n",
    "\n",
    "car = Vehicle()\n",
    "boat = Vehicle()\n",
    "\n",
    "print(car); print(boat)"
   ],
   "outputs": [],
   "metadata": {}
  },
  {
   "cell_type": "markdown",
   "source": [
    "# 2. First Class Practice\n",
    "\n",
    "Create a class called `Comment` that have `username`, `text` and `likes` (the default is zero) as the attribute."
   ],
   "metadata": {}
  },
  {
   "cell_type": "code",
   "execution_count": null,
   "source": [
    "# Define the Comment class below:\n",
    "class Comment:\n",
    "    def __init__(self, username, text, likes=0):\n",
    "        self.username = username\n",
    "        self.text = text\n",
    "        self.likes = likes\n",
    "\n",
    "C = Comment(\"tom_mot\", \"Hello World\", 12)\n",
    "print(C.username) #'tom_mot'\n",
    "print(C.text) #'Hello World'\n",
    "print(C.likes) #12"
   ],
   "outputs": [],
   "metadata": {}
  },
  {
   "cell_type": "markdown",
   "source": [
    "# 3. Bank Account OOP Exercise\n",
    "\n",
    "Define a new class called `BankAccount`. Each account have `owner` and `balance` attribute with default balance 0.0, it feature `deposit` where we it accepts money from the owner and `withdraw` which the owner takes money from their account.\n"
   ],
   "metadata": {}
  },
  {
   "cell_type": "code",
   "execution_count": null,
   "source": [
    "class BankAccount:\n",
    "    def __init__(self, owner, balance=0.0):\n",
    "        self.owner = owner\n",
    "        self.balance = balance\n",
    "  \n",
    "    def deposit(self, number):\n",
    "        self.balance += number\n",
    "        return f'{self.balance}'\n",
    "    \n",
    "    def withdraw(self, numbers):\n",
    "        self.balance -= numbers\n",
    "        return f'{self.balance}'\n",
    "\n",
    "acct = BankAccount('Tom')\n",
    "print(acct.balance) # 0.0\n",
    "print(acct.deposit(500)) # 500.0\n",
    "print(acct.withdraw(200)) # 300\n"
   ],
   "outputs": [],
   "metadata": {}
  },
  {
   "cell_type": "markdown",
   "source": [
    "# 4. Chicken Coop Exercise\n",
    "\n",
    "We want to keep track how many eggs each individual chicken lays and at the same time we wan to track the total number of eggs all hens have laid.\n",
    "\n",
    "1. Create Chicken Class\n",
    "2. Each Chicken have `species`, `name`, and `eggs` (default = 0).\n",
    "3. Each chicken have instance method called lay_egg() where it increment on class variable `total_eggs`.\n"
   ],
   "metadata": {}
  },
  {
   "cell_type": "code",
   "execution_count": null,
   "source": [
    "class Chicken:\n",
    "\n",
    "    total_eggs = 0\n",
    "    \n",
    "    def __init__(self, name, species, eggs = 0):\n",
    "        self.species = species\n",
    "        self.name = name\n",
    "        self.eggs = eggs\n",
    "\n",
    "    def lay_egg(self):\n",
    "        self.eggs += 1\n",
    "        Chicken.total_eggs += 1\n",
    "        return self.eggs\n",
    "\n"
   ],
   "outputs": [],
   "metadata": {}
  },
  {
   "cell_type": "markdown",
   "source": [
    "# 5. Roleplaying Game (Inheritance Exercise)\n",
    "\n",
    "1. Define a base class `Character` that has following properties `names` (string), `hp` (integer), and `level` (integer).\n",
    "2. Define a subclass `NPC` that inherits from `Character` with additional instance method `speak` which prints the character unique speech when interacting\n"
   ],
   "metadata": {}
  },
  {
   "cell_type": "code",
   "execution_count": null,
   "source": [
    "class Character:\n",
    "    def __init__(self, name, hp, level):\n",
    "        self.name = name\n",
    "        self.hp = hp\n",
    "        self.level = level\n",
    "\n",
    "class NPC(Character):\n",
    "    def __init__(self, name, hp, level):\n",
    "        super().__init__(name, hp, level)\n",
    "    def speak(self):\n",
    "        return f\"{self.name}: Want to trade something?\" "
   ],
   "outputs": [],
   "metadata": {}
  },
  {
   "cell_type": "markdown",
   "source": [
    "# 6. Genetics (MRO Exercise)\n",
    "\n",
    "Exercise based on Mendelian inheritance where one parent have deominant trait to the child and the other have recessive trait. There are three class, `Mother` (dominant), `Father` (recessive). The`child` class will inherits from the mother first and then the father.\n"
   ],
   "metadata": {}
  },
  {
   "cell_type": "code",
   "execution_count": null,
   "source": [
    "class Mother:\n",
    "    def __init__(self):\n",
    "        self.eye_color = 'brown'\n",
    "        self.hair_color = 'dark brown'\n",
    "        self.hair_type = 'curly'\n",
    "        \n",
    "class Father:\n",
    "    def __init__(self):\n",
    "        self.eye_color = 'blue'\n",
    "        self.hair_color = 'blond'\n",
    "        self.hair_type = 'straight'\n",
    "\n",
    "class Child(Mother, Father):\n",
    "    pass\n"
   ],
   "outputs": [],
   "metadata": {}
  },
  {
   "cell_type": "markdown",
   "source": [
    "# 7. Special Methods Exercise\n",
    "\n",
    "Create a clas `Train` that has one attribute `num_cars` which is specified when the trains instantiated. There should be 2 special methods: one method that describe the train when we call `print` and one method that denotes the length of the train"
   ],
   "metadata": {}
  },
  {
   "cell_type": "code",
   "execution_count": null,
   "source": [
    "class Train:\n",
    "    num_cars = 0\n",
    "    def __init__(self, nums):\n",
    "        Train.num_cars += nums\n",
    "\n",
    "    def __repr__(self):\n",
    "        return f'{Train.num_cars} car train'\n",
    "\n",
    "    def __len__(self):\n",
    "        return Train.num_cars"
   ],
   "outputs": [],
   "metadata": {}
  }
 ],
 "metadata": {
  "orig_nbformat": 4,
  "language_info": {
   "name": "python",
   "version": "3.9.7",
   "mimetype": "text/x-python",
   "codemirror_mode": {
    "name": "ipython",
    "version": 3
   },
   "pygments_lexer": "ipython3",
   "nbconvert_exporter": "python",
   "file_extension": ".py"
  },
  "kernelspec": {
   "name": "python3",
   "display_name": "Python 3.9.7 64-bit ('miniconda3': virtualenv)"
  },
  "interpreter": {
   "hash": "03be2e0445a1ab447361bd2ab0acfbde57e08d40c05a4921155ca10feb405bd2"
  }
 },
 "nbformat": 4,
 "nbformat_minor": 2
}