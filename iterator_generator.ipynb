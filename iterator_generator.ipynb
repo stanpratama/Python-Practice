{
 "cells": [
  {
   "cell_type": "markdown",
   "source": [
    "# 1. Week Generator Exercise\n",
    "\n",
    "Define a function called `week`, which returns a generator that yields each day of the week, after the generator ends, it does not start over.\n"
   ],
   "metadata": {}
  },
  {
   "cell_type": "code",
   "execution_count": null,
   "source": [
    "def week():\n",
    "    days = [\n",
    "        'Monday',\n",
    "        'Tuesday',\n",
    "        'Wednesday',\n",
    "        'Thursday',\n",
    "        'Friday',\n",
    "        'Saturday',\n",
    "        'Sunday',\n",
    "    ]\n",
    "\n",
    "    for day in days:\n",
    "        yield day"
   ],
   "outputs": [],
   "metadata": {}
  },
  {
   "cell_type": "markdown",
   "source": [
    "# 2. Yes or No\n",
    "\n",
    "Write a function called `yes_or_no`, which returns a generator that first yields `yes`, then `no`, and so on.\n"
   ],
   "metadata": {}
  },
  {
   "cell_type": "code",
   "execution_count": null,
   "source": [
    "def yes_or_no():\n",
    "    while True:\n",
    "        yield 'yes'\n",
    "        yield 'no'\n",
    "\n",
    "gen = yes_or_no()\n",
    "print(next(gen))\n",
    "print(next(gen))\n",
    "print(next(gen))\n",
    "print(next(gen))\n"
   ],
   "outputs": [],
   "metadata": {}
  },
  {
   "cell_type": "markdown",
   "source": [
    "# 3. Make Song\n",
    "\n",
    "create a function called `make_song` which takes a count and a beverage, and returns a generator that yields verses from a popular song about the beverage. the numbers of verses determined by the count.\n"
   ],
   "metadata": {}
  },
  {
   "cell_type": "code",
   "execution_count": null,
   "source": [
    "def make_song(count, beverages):\n",
    "    while True:\n",
    "        if count == 0:\n",
    "            print('No More {}!'.format(beverages))\n",
    "            raise StopIteration\n",
    "        elif count == 1:\n",
    "            yield 'Only {} bottle of {} left!'.format(count, beverages) \n",
    "        else:\n",
    "            yield '{} bottles of {} on the wall.'.format(count, beverages)\n",
    "        count -= 1\n",
    "\n",
    "kombucha_song = make_song(5, \"kombucha\")\n",
    "print(next(kombucha_song)) # '5 bottles of kombucha on the wall.'\n",
    "print(next(kombucha_song)) # '4 bottles of kombucha on the wall.'\n",
    "print(next(kombucha_song)) # '3 bottles of kombucha on the wall.'\n",
    "print(next(kombucha_song)) # '2 bottles of kombucha on the wall.'\n",
    "print(next(kombucha_song)) # 'Only 1 bottle of kombucha left!'\n",
    "print(next(kombucha_song)) # 'No more kombucha!'\n",
    "print(next(kombucha_song)) # StopIteration"
   ],
   "outputs": [],
   "metadata": {}
  },
  {
   "cell_type": "markdown",
   "source": [
    "# 4. Get Multiples\n",
    "\n",
    "Write a function called `get_multiples`, which accepts a number and a count, and returns a generator that yields the first count multiples of the number.\n"
   ],
   "metadata": {}
  },
  {
   "cell_type": "code",
   "execution_count": null,
   "source": [
    "def get_multiples(num=1, count=10):\n",
    "    i = 1\n",
    "    while i <= count:\n",
    "        yield num*i\n",
    "        i += 1\n",
    "\n",
    "print(list(get_multiples()))"
   ],
   "outputs": [],
   "metadata": {}
  },
  {
   "cell_type": "markdown",
   "source": [
    "# 5. Get Unlimited Multiples\n",
    "\n",
    "Accepts a number and returns a generator that will yield an unliimited number of multiples of that number.\n"
   ],
   "metadata": {}
  },
  {
   "cell_type": "code",
   "execution_count": null,
   "source": [
    "def get_unlimited_multiples(num):\n",
    "    i = 1\n",
    "    while True:\n",
    "        yield num * i\n",
    "        i += 1"
   ],
   "outputs": [],
   "metadata": {}
  }
 ],
 "metadata": {
  "orig_nbformat": 4,
  "language_info": {
   "name": "python",
   "version": "3.9.7",
   "mimetype": "text/x-python",
   "codemirror_mode": {
    "name": "ipython",
    "version": 3
   },
   "pygments_lexer": "ipython3",
   "nbconvert_exporter": "python",
   "file_extension": ".py"
  },
  "kernelspec": {
   "name": "python3",
   "display_name": "Python 3.9.7 64-bit ('miniconda3': virtualenv)"
  },
  "interpreter": {
   "hash": "03be2e0445a1ab447361bd2ab0acfbde57e08d40c05a4921155ca10feb405bd2"
  }
 },
 "nbformat": 4,
 "nbformat_minor": 2
}