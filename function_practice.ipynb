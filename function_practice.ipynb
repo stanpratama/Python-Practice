{
 "cells": [
  {
   "cell_type": "markdown",
   "source": [
    "# 1. Your First Function\n",
    "\n",
    "Define a function named `make_noise` that prints \"THE CROWD GGOES WILD\".\n"
   ],
   "metadata": {}
  },
  {
   "cell_type": "code",
   "execution_count": null,
   "source": [
    "def make_noise():\n",
    "    return \"THE CROWD GOES WILD\"\n",
    "\n",
    "make_noise()"
   ],
   "outputs": [],
   "metadata": {}
  },
  {
   "cell_type": "markdown",
   "source": [
    "# 2. Coin Flip\n",
    "\n",
    "Function to randomize either head or tail.\n"
   ],
   "metadata": {}
  },
  {
   "cell_type": "code",
   "execution_count": null,
   "source": [
    "from random import random\n",
    "\n",
    "def coin_flip():\n",
    "    if random() > 0.4:\n",
    "        return (\"Tails\")\n",
    "    else:\n",
    "        return (\"Head\")\n",
    "\n",
    "print(coin_flip())"
   ],
   "outputs": [],
   "metadata": {}
  },
  {
   "cell_type": "markdown",
   "source": [
    "# 3. Generating Evens Exercise\n",
    "\n",
    "Write a function called `generate_events` that returns a list of the even number between 1 and 50 (not incl 50)\n"
   ],
   "metadata": {}
  },
  {
   "cell_type": "code",
   "execution_count": null,
   "source": [
    "def generate_evens():\n",
    "    return [even for even in range(1, 50) if even % 2 == 0]\n",
    "\n",
    "print(generate_evens())\n"
   ],
   "outputs": [],
   "metadata": {}
  },
  {
   "cell_type": "markdown",
   "source": [
    "# 4. Yell Function Exercise\n",
    "\n",
    "implement a function called `yell` which accepts single string argument. it should reutrn uppercased version of the argument.\n"
   ],
   "metadata": {}
  },
  {
   "cell_type": "code",
   "execution_count": null,
   "source": [
    "def yell(words):\n",
    "    return (f\"{words.upper()}!\")\n",
    "\n",
    "print(yell(\"go away\"))"
   ],
   "outputs": [],
   "metadata": {}
  },
  {
   "cell_type": "markdown",
   "source": [
    "# 5. Default Parameter Exercise\n",
    "\n",
    "Write a function called `speak` that accepts a single paramter, `animal`.\n",
    "\n",
    "* If animal is `pig`, it should return `oink`\n",
    "* if `duck` return `quack`\n",
    "* if `cat` return `meow`\n",
    "* if `dog` return `woof`\n",
    "* if animal is anything else return `?`\n",
    "* if no animal is specified it should default to `dog`\n"
   ],
   "metadata": {}
  },
  {
   "cell_type": "code",
   "execution_count": null,
   "source": [
    "def speak(animal='dog'):\n",
    "    noise = {'pig': 'oink', 'duck': 'quack', 'cat': 'moew', 'dog': 'woof'}\n",
    "    if animal in noise:\n",
    "        return noise[f'{animal}']\n",
    "    return '?'\n",
    "print(speak())\n"
   ],
   "outputs": [],
   "metadata": {}
  },
  {
   "cell_type": "markdown",
   "source": [
    "# 6. Product\n",
    "\n",
    "Write a function called `product` that accepts two parameters and returns the product of the two parameter (multiply them together)\n"
   ],
   "metadata": {}
  },
  {
   "cell_type": "code",
   "execution_count": null,
   "source": [
    "def product(x=1, y=1):\n",
    "    return x * y\n"
   ],
   "outputs": [],
   "metadata": {}
  },
  {
   "cell_type": "markdown",
   "source": [
    "# 7. Return Day\n",
    "\n",
    "Write a function called `return_day`. it takes one paramter (a num from 1-7) and returns the day of the week (1 is sunday, etc) if < 1 or >7 return `none`.\n"
   ],
   "metadata": {}
  },
  {
   "cell_type": "code",
   "execution_count": null,
   "source": [
    "def return_day(num):\n",
    "    week = {1: 'Sunday', 2: 'Monday', 3: 'Tuesday', 4: 'Wednesday', 5: 'Thursday', 6: 'Friday', 7: 'Saturday',}\n",
    "    if num in week:\n",
    "        return week[num]\n",
    "    return None\n",
    "print(return_day(4))"
   ],
   "outputs": [],
   "metadata": {}
  },
  {
   "cell_type": "markdown",
   "source": [
    "# 8. Last Element\n",
    "\n",
    "Write a function called `last_element`. This function takes in one parameter (a list) and returns the last value in the list. it should return `None` if the list is empty.\n"
   ],
   "metadata": {}
  },
  {
   "cell_type": "code",
   "execution_count": null,
   "source": [
    "def last_element(things):\n",
    "    things = list(things)\n",
    "    if len(things) >= 1:\n",
    "        return things[(len(things)-1)]\n",
    "    return None\n",
    "\n",
    "print(last_element([]))"
   ],
   "outputs": [],
   "metadata": {}
  },
  {
   "cell_type": "markdown",
   "source": [
    "# 9. Number Compare\n",
    "\n",
    "Write a function called `number_compare`. This function takes in two parameters (both numbers). if the first is greater than the second, this function returns \"First is Greater\", vice versa for second, and if equal \"Numbers are equal\".\n"
   ],
   "metadata": {}
  },
  {
   "cell_type": "code",
   "execution_count": null,
   "source": [
    "def number_compare(a, b):\n",
    "    if a > b:\n",
    "        return \"First is Greater\"\n",
    "    elif a < b:\n",
    "        return \"Second is Greater\"\n",
    "    return 'Numbers are equal'\n",
    "\n",
    "number_compare(8, 7)"
   ],
   "outputs": [],
   "metadata": {}
  },
  {
   "cell_type": "markdown",
   "source": [
    "# 10. Single Letter Count\n",
    "\n",
    "Write a function called `single_letter_count`. This function takes in two parameters (two strings). the frist is a word and the second is a letter. this returns the number of times letter appears in the word, * case insensitive\n"
   ],
   "metadata": {}
  },
  {
   "cell_type": "code",
   "execution_count": null,
   "source": [
    "def single_letter_count(word, letter):\n",
    "    if letter in word:\n",
    "        return word.lower().count(letter.lower())\n",
    "    return 0\n",
    "\n",
    "single_letter_count('biCycle', 'c')"
   ],
   "outputs": [],
   "metadata": {}
  },
  {
   "cell_type": "markdown",
   "source": [
    "# 11. Multiple Letter Count\n",
    "\n",
    "Write a func called `multiple_lower_count`. it takes one parameter (string) and returns a dictionary with keys being the leters and  values is the letter occurrence.\n"
   ],
   "metadata": {}
  },
  {
   "cell_type": "code",
   "execution_count": null,
   "source": [
    "def multiple_letter_count(word):\n",
    "    return {k: (word.count(k)) for k in word}\n",
    "multiple_letter_count('bicycle')"
   ],
   "outputs": [],
   "metadata": {}
  },
  {
   "cell_type": "markdown",
   "source": [
    "# 12. List Manipulation\n",
    "\n",
    "write `list_manipulaation`. it has 4 parameters (list, command. location and value),\n",
    "\n",
    "1. if the command is `remove` and the location is `end`. function remove the last value in list and return the removed value.\n",
    "2. if the command is `remove` and the location is `beginning`. function remove the first value in list and return the removed value.\n",
    "3. if the command is `add` and location is `beginning`, add the `value` to the beginning of the list and return the list\n",
    "4. if the command is `add` and location is `end`, add the `value` to the end of the list and return the list\n"
   ],
   "metadata": {}
  },
  {
   "cell_type": "code",
   "execution_count": null,
   "source": [
    "def list_manipulation(lists, commands, location, values=0):\n",
    "    if commands == \"add\":\n",
    "        if location == \"beginning\":\n",
    "            lists.insert(0, values)\n",
    "            return lists\n",
    "        elif location == \"end\":\n",
    "            lists.append(values)\n",
    "            return lists\n",
    "    elif commands == \"remove\":\n",
    "        if location == \"beginning\":\n",
    "            return lists.pop(0)\n",
    "        elif location == \"end\":\n",
    "            return lists.pop()\n",
    "\n",
    "print(list_manipulation([1,2,3], \"remove\", \"end\")) # 3\n",
    "print(list_manipulation([1,2,3], \"remove\", \"beginning\")) #  1\n",
    "print(list_manipulation([1,2,3], \"add\", \"beginning\", 20)) #  [20,1,2,3]\n",
    "print(list_manipulation([1,2,3], \"add\", \"end\", 30)) #  [1,2,3,30]\n"
   ],
   "outputs": [],
   "metadata": {}
  },
  {
   "cell_type": "markdown",
   "source": [
    "# 13. Palindrome\n",
    "\n",
    "Write a function `is_palindrome`, it takes one parameter and returns if it is true (is palindrome) or not. this function ignore whitespace and capital letters.\n"
   ],
   "metadata": {}
  },
  {
   "cell_type": "code",
   "execution_count": null,
   "source": [
    "def is_palindrome(word):\n",
    "    word = word.replace(' ', '')\n",
    "    if word.lower() == word[::-1].lower():\n",
    "        return True\n",
    "    return False\n",
    "print(is_palindrome('testing')) # False\n",
    "print(is_palindrome('tacocat')) # True\n",
    "print(is_palindrome('hannah')) # True\n",
    "print(is_palindrome('robert')) # False\n",
    "print(is_palindrome('a man a plan a canal Panama')) # True"
   ],
   "outputs": [],
   "metadata": {}
  },
  {
   "cell_type": "markdown",
   "source": [
    "# 14. Frequency\n",
    "\n",
    "this function accepts a list and a search_term and returns the number of times the term appears in the list.\n"
   ],
   "metadata": {}
  },
  {
   "cell_type": "code",
   "execution_count": null,
   "source": [
    "def frequency(lists, search):\n",
    "    return lists.count(search)\n",
    "print(frequency([1,2,3,4,4,4], 4)) # 3\n",
    "print(frequency([True, False, True, True], False)) # 1"
   ],
   "outputs": [],
   "metadata": {}
  },
  {
   "cell_type": "markdown",
   "source": [
    "# 15. Multiply Even Numbers\n",
    "\n",
    "This function accepts a list of number and return the product of all even numbers in the list.\n"
   ],
   "metadata": {}
  },
  {
   "cell_type": "code",
   "execution_count": null,
   "source": [
    "def multiply_even_numbers(lists):\n",
    "    total = 1\n",
    "    for s in [even for even in lists if even % 2 == 0]:\n",
    "        total *= s\n",
    "    return total\n",
    "multiply_even_numbers([2,3,4,5,6]) # 48"
   ],
   "outputs": [],
   "metadata": {}
  },
  {
   "cell_type": "markdown",
   "source": [
    "# 16. Capitalize\n",
    "\n",
    "Create a function that capitalize each first letter in a string.\n"
   ],
   "metadata": {}
  },
  {
   "cell_type": "code",
   "execution_count": null,
   "source": [
    "# Deliberately not using capitalize() method\n",
    "def capitalize(word):\n",
    "    return word[0].upper() + word[1:]\n",
    "\n",
    "print(capitalize(\"tim\")) # \"Tim\"\n",
    "print(capitalize(\"matt\")) # \"Matt\""
   ],
   "outputs": [],
   "metadata": {}
  },
  {
   "cell_type": "markdown",
   "source": [
    "# 17. Compact\n",
    "\n",
    "This function accepts a list and returns a list of values that are truthy values.\n"
   ],
   "metadata": {}
  },
  {
   "cell_type": "code",
   "execution_count": null,
   "source": [
    "def compact(items):\n",
    "    new_list = []\n",
    "    for s in items:\n",
    "        if bool(s) is True:\n",
    "            new_list.append(s)\n",
    "    return new_list\n",
    "compact([0,1,2,\"\",[], False, {}, None, \"All done\"]) # [1,2, \"All done\"]"
   ],
   "outputs": [],
   "metadata": {}
  },
  {
   "cell_type": "markdown",
   "source": [
    "# 18. Intersection\n",
    "\n",
    "Accepts two lists and return a list with the values that are in both input lists.\n"
   ],
   "metadata": {}
  },
  {
   "cell_type": "code",
   "execution_count": null,
   "source": [
    "def intersection(list_1, list_2):\n",
    "    return [x for x in list_1 if x in list_2]\n"
   ],
   "outputs": [],
   "metadata": {}
  },
  {
   "cell_type": "markdown",
   "source": [
    "# 19. Partition\n",
    "\n",
    "This function accepts a list and a callback function. The Function should iterate over each element in the list and invoke the call back function at each iteration. create a nested list one side for `True` objects and the other for `False` objects. (true or false based on isEven function)\n"
   ],
   "metadata": {}
  },
  {
   "cell_type": "code",
   "execution_count": null,
   "source": [
    "def isEven(num):\n",
    "    return num % 2 == 0\n",
    "\n",
    "def partition(list_1, fn):\n",
    "    return [[x for x in list_1 if fn(x)], [y for y in list_1 if not fn(y)]]    \n",
    "\n",
    "partition([1,2,3,4], isEven) # [[2,4],[1,3]]"
   ],
   "outputs": [],
   "metadata": {}
  },
  {
   "cell_type": "markdown",
   "source": [
    "# 20. *args Exercise: The Purple Test\n",
    "\n",
    "accepts any numbers of argument, should return `True` if any of the argumetns are \"purple\" otherwise it should return `False`.\n"
   ],
   "metadata": {}
  },
  {
   "cell_type": "code",
   "execution_count": null,
   "source": [
    "def contains_purple(*args):\n",
    "    if 'purple' in args:\n",
    "        return True\n",
    "    return False\n",
    "\n",
    "print(contains_purple(2, 'car', 0.9, True))\n",
    "print(contains_purple(1, 0.5, 'purple', False))\n",
    "            "
   ],
   "outputs": [],
   "metadata": {}
  },
  {
   "cell_type": "markdown",
   "source": [
    "# 21. **kwargs Exercise: Combine Words\n",
    "\n",
    "accepts a single string called word and any number of additional key argument (suffix or prefix, etc). and combine word based on prefix or suffix provided or just return the word.\n"
   ],
   "metadata": {}
  },
  {
   "cell_type": "code",
   "execution_count": null,
   "source": [
    "def combine_words(word, **kwargs):\n",
    "    if kwargs:\n",
    "        if \"preffix\" in kwargs.keys():\n",
    "            return f'{kwargs[\"preffix\"]}{word}'\n",
    "        elif \"suffix\" in kwargs.keys():\n",
    "            return f'{word}{kwargs[\"suffix\"]}'    \n",
    "    return word\n",
    "    \n",
    "print(combine_words('child'))\n",
    "print(combine_words('child', preffix=\"man\"))\n",
    "print(combine_words('child', suffix=\"ish\"))"
   ],
   "outputs": [],
   "metadata": {}
  },
  {
   "cell_type": "markdown",
   "source": [
    "# 22. Unpacking Exercise\n",
    "\n",
    "`count_seven` functions which count `7` occurence\n",
    "\n",
    "1. First call the argument (1,4, and 7) and save the result to variable called result1\n",
    "2. call count_seven, pass all nums in variable `result2`.\n"
   ],
   "metadata": {}
  },
  {
   "cell_type": "code",
   "execution_count": null,
   "source": [
    "def count_sevens(*args):\n",
    "    return args.count(7)\n",
    "\n",
    "nums = [90,1,35,67,89,20,3,1,2,3,4,5,6,9,34,46,57,68,79,12,23,34,55,1,90,54,34,76,8,23,34,45,56,67,78,12,23,34,45,56,67,768,23,4,5,6,7,8,9,12,34,14,15,16,17,11,7,11,8,4,6,2,5,8,7,10,12,13,14,15,7,8,7,7,345,23,34,45,56,67,1,7,3,6,7,2,3,4,5,6,7,8,9,8,7,6,5,4,2,1,2,3,4,5,6,7,8,9,0,9,8,7,8,7,6,5,4,3,2,1,7]\n",
    "\n",
    "result1 = count_sevens(1, 4, 7)\n",
    "print(result1)\n",
    "result2 = count_sevens(*nums)\n",
    "print(result2)"
   ],
   "outputs": [],
   "metadata": {}
  },
  {
   "cell_type": "markdown",
   "source": [
    "# 23. Calculation\n",
    "\n",
    "write function called `calculate`. that accepts keyword\n",
    "\n",
    "1. `make_float`, a boolean which returns a loat if True or an interger if False (Default is float)\n",
    "2. `operation` which is either add, substract, multiply or divide\n",
    "3. `first` and `second` is number and `message` is string that can be added\n"
   ],
   "metadata": {}
  },
  {
   "cell_type": "code",
   "execution_count": null,
   "source": [
    "def calculate(make_float=True, operation=None, message='The result is', first=0, second=0):\n",
    "    if operation == \"add\":\n",
    "        if make_float:\n",
    "            return f'{message} {float(first+second)}'\n",
    "        return f'{message} {int(first+second)}'   \n",
    "    if operation == \"substract\":\n",
    "            if make_float:\n",
    "                return f'{message} {float(first-second)}'\n",
    "            return f'{message} {int(first-second)}'   \n",
    "    if operation == \"multiply\":\n",
    "        if make_float:\n",
    "            return f'{message} {float(first*second)}'\n",
    "        return f'{message} {int(first*second)}'   \n",
    "    if operation == \"divide\":\n",
    "        if make_float:\n",
    "            return f'{message} {float(first/second)}'\n",
    "        return f'{message} {int(first/second)}'   \n",
    "\n",
    "print(calculate(make_float=False, operation='add', message='You just added', first=2, second=4)) # \"You just added 6\"\n",
    "print(calculate(make_float=True, operation='divide', first=3.5, second=5)) # \"The result is 0.7\"\n"
   ],
   "outputs": [],
   "metadata": {}
  }
 ],
 "metadata": {
  "orig_nbformat": 4,
  "language_info": {
   "name": "python",
   "version": "3.9.6",
   "mimetype": "text/x-python",
   "codemirror_mode": {
    "name": "ipython",
    "version": 3
   },
   "pygments_lexer": "ipython3",
   "nbconvert_exporter": "python",
   "file_extension": ".py"
  },
  "kernelspec": {
   "name": "python3",
   "display_name": "Python 3.9.6 64-bit ('base': conda)"
  },
  "interpreter": {
   "hash": "03be2e0445a1ab447361bd2ab0acfbde57e08d40c05a4921155ca10feb405bd2"
  }
 },
 "nbformat": 4,
 "nbformat_minor": 2
}