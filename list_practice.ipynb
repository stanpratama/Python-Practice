{
 "cells": [
  {
   "cell_type": "markdown",
   "source": [
    "# 1. Creating List\n",
    "\n",
    "1. Define list named `my stuff`, 4 elements long including 1 string and float\n",
    "2. define list named `num`, containing all number from 1 to 99\n"
   ],
   "metadata": {}
  },
  {
   "cell_type": "code",
   "execution_count": null,
   "source": [
    "my_stuff = ['car', 1.5, True, 2]\n",
    "nums= list(range(1,100))\n",
    "print(my_stuff)\n",
    "print(nums)"
   ],
   "outputs": [],
   "metadata": {}
  },
  {
   "cell_type": "markdown",
   "source": [
    "# 2. Accesing List Data\n",
    "\n",
    "1. Change \"Hanna\" to \"Hannah\"\n",
    "2. Change \"Geoffrey\" to \"Jeffrey\"\n",
    "3. Change \"aparna\" to \"Aparna\"\n"
   ],
   "metadata": {}
  },
  {
   "cell_type": "code",
   "execution_count": null,
   "source": [
    "# DON'T TOUCH THIS PLEASE!\n",
    "people = [\"Hanna\",\"Louisa\",\"Claudia\", \"Angela\",\"Geoffrey\", \"aparna\"]\n",
    "\n",
    "#Change \"Hanna\" to \"Hannah\"\n",
    "people[0] = 'Hannah'\n",
    "#Change \"Geoffrey\" to \"Jeffrey\"\n",
    "people[-2] = 'Jeffrey'\n",
    "#Change \"aparna\" to \"Aparna\" (capitalize it)\n",
    "people[-1] = 'Aparna'\n",
    "\n",
    "print(people)"
   ],
   "outputs": [],
   "metadata": {}
  },
  {
   "cell_type": "markdown",
   "source": [
    "# 3. List Iteration Exercise\n",
    "\n",
    "1. Write code that loops over the list and adds all the strings together to form one large combined string (combined string should be in uppercase)\n"
   ],
   "metadata": {}
  },
  {
   "cell_type": "code",
   "execution_count": null,
   "source": [
    "sounds = [\"super\", \"cali\", \"fragil\", \"istic\", \"expi\", \"ali\", \"docious\"]\n",
    "result_for = ''\n",
    "result_while = ''\n",
    "x = 0\n",
    "for s in sounds:\n",
    "    result_for += s.upper()\n",
    "    print(result_for)\n",
    "\n",
    "while x < len(sounds):\n",
    "    result_while += sounds[x].upper()\n",
    "    print(result_while)\n",
    "    x += 1"
   ],
   "outputs": [],
   "metadata": {}
  },
  {
   "cell_type": "markdown",
   "source": [
    "# 4. List Basics Exercise\n",
    "\n",
    "1. Create list called instructors\n",
    "2. Add the folowing strings to it: 'Colt', 'Blue', 'Lisa'\n"
   ],
   "metadata": {}
  },
  {
   "cell_type": "code",
   "execution_count": null,
   "source": [
    "instructors = []\n",
    "instructors.extend(['Colt', 'Blue', 'Lisa'])\n",
    "print(instructors)"
   ],
   "outputs": [],
   "metadata": {}
  },
  {
   "cell_type": "markdown",
   "source": [
    "# 5. List Methods Exercise\n",
    "\n",
    "1. Create a list called instructors, Add the folowing strings to it: 'Colt', 'Blue', 'Lisa'\n",
    "2. Remove the last value in the list\n",
    "3. Remove the first value in the list\n",
    "4. Add the string \"Done\" to the beginning of the list\n",
    "5. Run the tests to make sure you've done this correctly!\n"
   ],
   "metadata": {}
  },
  {
   "cell_type": "code",
   "execution_count": null,
   "source": [
    "#1\n",
    "instructors = []\n",
    "instructors.extend(['Colt', 'Blue', 'Lisa'])\n",
    "#2\n",
    "instructors.pop()\n",
    "#3 \n",
    "instructors.pop(0)\n",
    "#4\n",
    "instructors.insert(0, 'Done')\n",
    "print(instructors)"
   ],
   "outputs": [],
   "metadata": {}
  },
  {
   "cell_type": "markdown",
   "source": [
    "# 6. List Comprehension Exercise\n",
    "\n",
    "1. Given a list ['Elie', 'Tim', 'Matt'] create a variable called answers which is a new list containing the first letter of each name in the list\n",
    "2. Given a list [1,2,3,4,5,6], create answer2, which is a new list of all even values.\n"
   ],
   "metadata": {}
  },
  {
   "cell_type": "code",
   "execution_count": null,
   "source": [
    "answer = [name[0].upper() for name in ['Elie', 'Tim', 'Matt']]\n",
    "print (answer)\n",
    "answer2 = [num for num in [1,2,3,4,5,6] if num % 2 == 0]\n",
    "print(answer2)"
   ],
   "outputs": [],
   "metadata": {}
  },
  {
   "cell_type": "markdown",
   "source": [
    "# 7. More List Comprehension Exercise\n",
    "\n",
    "1. Given two lists [1,2,3,4] and [3,4,5,6], create a variable called answer, which a new list that is intersection of the two\n",
    "2. Given a list of words ['Elie', 'Tim', 'Matt'], create answer2 wich is a new list with each word reversed and in lower case\n"
   ],
   "metadata": {}
  },
  {
   "cell_type": "code",
   "execution_count": null,
   "source": [
    "answer = [num for num in [1,2,3,4] if num in [3,4,5,6]]\n",
    "answer2 = [name[::-1].lower() for name in ['Elie', 'Tim', 'Matt']]\n",
    "print(answer)\n",
    "print(answer2)"
   ],
   "outputs": [],
   "metadata": {}
  },
  {
   "cell_type": "markdown",
   "source": [
    "# 8. Another List Comprehension Exercise\n",
    "\n",
    "For all numbers between 1 and 100, create a variable called answer which contains a list of all numbers divisible by 12.\n"
   ],
   "metadata": {}
  },
  {
   "cell_type": "code",
   "execution_count": null,
   "source": [
    "answer = [num for num in range(1, 101) if num % 12 == 0]\n",
    "print(answer)"
   ],
   "outputs": [],
   "metadata": {}
  },
  {
   "cell_type": "markdown",
   "source": [
    "# 9. Conditional List Comprehension Exercise\n",
    "\n",
    "Given string \"amazing\", create a variable called answer, which is a list containing all the string but not the vowels\n"
   ],
   "metadata": {}
  },
  {
   "cell_type": "code",
   "execution_count": null,
   "source": [
    "answer = [strings for strings in \"amazing\" if strings not in \"aiueo\"]\n",
    "print(answer)"
   ],
   "outputs": [],
   "metadata": {}
  },
  {
   "cell_type": "markdown",
   "source": [
    "# 10. Nested List Exercise\n",
    "\n",
    "Create a variable called answer with following value [[0,1,2], [0,1,2], [0,1,2]]\n"
   ],
   "metadata": {}
  },
  {
   "cell_type": "code",
   "execution_count": null,
   "source": [
    "answer = [[nest for nest in range(3)] for outside in range(3)]\n",
    "print(answer)"
   ],
   "outputs": [],
   "metadata": {}
  },
  {
   "cell_type": "markdown",
   "source": [
    "# 11. One More Nested List Comprehension Challenge\n",
    "\n",
    "Using list comprehension create a variable answer with value 0-9 for 10 rows\n"
   ],
   "metadata": {}
  },
  {
   "cell_type": "code",
   "execution_count": null,
   "source": [
    "answer = [[ins for ins in range(10)] for outs in range(1, 11)]\n",
    "print(answer)"
   ],
   "outputs": [],
   "metadata": {}
  }
 ],
 "metadata": {
  "orig_nbformat": 4,
  "language_info": {
   "name": "python",
   "version": "3.9.6",
   "mimetype": "text/x-python",
   "codemirror_mode": {
    "name": "ipython",
    "version": 3
   },
   "pygments_lexer": "ipython3",
   "nbconvert_exporter": "python",
   "file_extension": ".py"
  },
  "kernelspec": {
   "name": "python3",
   "display_name": "Python 3.9.6 64-bit ('miniconda3': virtualenv)"
  },
  "interpreter": {
   "hash": "03be2e0445a1ab447361bd2ab0acfbde57e08d40c05a4921155ca10feb405bd2"
  }
 },
 "nbformat": 4,
 "nbformat_minor": 2
}