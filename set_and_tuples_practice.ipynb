{
 "cells": [
  {
   "cell_type": "code",
   "execution_count": 13,
   "source": [
    "# 1 - Create a variable called numbers which is a tuple with the the values 1, 2, 3 and 4 inside.\n",
    "\n",
    "numbers = tuple(range(1, 5))\n",
    "print(numbers)\n",
    "# 2 - Create a variable called value which is a tuple with the the value 1 inside.\n",
    "value = (1,)\n",
    "print(type(value))\n",
    "# 3 - Given the following variable:\n",
    "\n",
    "values = [10,20,30]\n",
    "\n",
    "# Create a variable called static_values which is the result of the values variable converted to a tuple\n",
    "\n",
    "static_values = tuple(values)\n",
    "print(type(static_values))\n",
    "# 4 - Given the following variable\n",
    "\n",
    "stuff = [1,3,1,5,2,5,1,2,5]\n",
    "\n",
    "# Create a variable called unique_stuff which is a set of only the unique values in the stuff list\n",
    "unique_stuff = set(stuff)\n",
    "print(unique_stuff)"
   ],
   "outputs": [
    {
     "output_type": "stream",
     "name": "stdout",
     "text": [
      "(1, 2, 3, 4)\n",
      "<class 'tuple'>\n",
      "<class 'tuple'>\n",
      "{1, 2, 3, 5}\n"
     ]
    }
   ],
   "metadata": {}
  }
 ],
 "metadata": {
  "orig_nbformat": 4,
  "language_info": {
   "name": "python",
   "version": "3.9.6",
   "mimetype": "text/x-python",
   "codemirror_mode": {
    "name": "ipython",
    "version": 3
   },
   "pygments_lexer": "ipython3",
   "nbconvert_exporter": "python",
   "file_extension": ".py"
  },
  "kernelspec": {
   "name": "python3",
   "display_name": "Python 3.9.6 64-bit ('miniconda3': virtualenv)"
  },
  "interpreter": {
   "hash": "03be2e0445a1ab447361bd2ab0acfbde57e08d40c05a4921155ca10feb405bd2"
  }
 },
 "nbformat": 4,
 "nbformat_minor": 2
}