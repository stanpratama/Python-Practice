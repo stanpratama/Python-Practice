{
 "cells": [
  {
   "cell_type": "markdown",
   "source": [
    "# 1. Built In Module Exercise\n",
    "\n",
    "Import `math` modules and use `math.sqrt` to find square root of 15129, save the results to variable called `answer`.\n"
   ],
   "metadata": {}
  },
  {
   "cell_type": "code",
   "execution_count": null,
   "source": [
    "import math\n",
    "answer = math.sqrt(15129)\n",
    "print(answer)"
   ],
   "outputs": [],
   "metadata": {}
  },
  {
   "cell_type": "markdown",
   "source": [
    "# 2. Built In Module Challenge\n",
    "\n",
    "Define a function called `contain_keyword` that accepts any number of string arguments, it return `True` if any of arguments are considered Python keywords (def, return, if, etc), otherwise return `False`. use `keyword` modules with `iskeyword` method"
   ],
   "metadata": {}
  },
  {
   "cell_type": "code",
   "execution_count": null,
   "source": [
    "def contains_keyword(*args):\n",
    "    import keyword\n",
    "    return any(char for char in args if keyword.iskeyword(char) == True)\n",
    "print(contains_keyword('hello', 'goodbye')) # False\n",
    "print(contains_keyword('import', 'car')) # True"
   ],
   "outputs": [],
   "metadata": {}
  },
  {
   "cell_type": "markdown",
   "source": [
    "# 3. Custom Module Exercise\n",
    "\n",
    "Create `helpers.py` that define a function called lucky_number() that always return number 37. and hen create `exercise.py` and call the function from helper and save it to `num`\n"
   ],
   "metadata": {}
  },
  {
   "cell_type": "code",
   "execution_count": null,
   "source": [
    "### This code should not be executed \n",
    "# helpers.py\n",
    "def lucky_number():\n",
    "    return 37\n",
    "# exercise.py\n",
    "import helpers\n",
    "num = help.lucky_number()"
   ],
   "outputs": [],
   "metadata": {}
  }
 ],
 "metadata": {
  "orig_nbformat": 4,
  "language_info": {
   "name": "python",
   "version": "3.9.6",
   "mimetype": "text/x-python",
   "codemirror_mode": {
    "name": "ipython",
    "version": 3
   },
   "pygments_lexer": "ipython3",
   "nbconvert_exporter": "python",
   "file_extension": ".py"
  },
  "kernelspec": {
   "name": "python3",
   "display_name": "Python 3.9.6 64-bit ('miniconda3': virtualenv)"
  },
  "interpreter": {
   "hash": "03be2e0445a1ab447361bd2ab0acfbde57e08d40c05a4921155ca10feb405bd2"
  }
 },
 "nbformat": 4,
 "nbformat_minor": 2
}