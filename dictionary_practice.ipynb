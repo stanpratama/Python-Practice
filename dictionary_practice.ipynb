{
 "cells": [
  {
   "cell_type": "markdown",
   "source": [
    "# 1. Dictionary Creation Exercise\n",
    "\n",
    "Create directory called user_info and add at least 3 key value pairs to it\n"
   ],
   "metadata": {}
  },
  {
   "cell_type": "code",
   "execution_count": null,
   "source": [
    "user_info = {\n",
    "    'name': 'John',\n",
    "    'age': 24,\n",
    "    'hobby': 'Swimming',\n",
    "}\n",
    "print(user_info)"
   ],
   "outputs": [],
   "metadata": {}
  },
  {
   "cell_type": "markdown",
   "source": [
    "# 2. Access Data in a Dictionary Exercise\n",
    "\n",
    "Given the dictionary below, declare a variable called `full_name` that is equal to artist `first` and `last` names with a space between\n"
   ],
   "metadata": {}
  },
  {
   "cell_type": "code",
   "execution_count": null,
   "source": [
    "artist = {\n",
    "    \"first\": \"Neil\",\n",
    "    \"last\": \"Young\",\n",
    "}\n",
    "full_name = (f'{artist[\"first\"]} {artist[\"last\"]}')\n",
    "print(full_name)"
   ],
   "outputs": [],
   "metadata": {}
  },
  {
   "cell_type": "markdown",
   "source": [
    "# 3. Totaling Donations Exercise\n",
    "\n",
    "Given the provided dictionary, use a loop to calculate the total value of the donations\n"
   ],
   "metadata": {}
  },
  {
   "cell_type": "code",
   "execution_count": null,
   "source": [
    "donations = dict(sam=25.0, lena=88.99, chuck=13.0, linus=99.5, stan=150.0, lisa=50.25, harrison=10.0)\n",
    "\n",
    "total_donations = 0\n",
    "\n",
    "for x in donations.values():\n",
    "    total_donations += x\n",
    "print(total_donations)\n"
   ],
   "outputs": [],
   "metadata": {}
  },
  {
   "cell_type": "markdown",
   "source": [
    "# 4. Dictionary Access\n",
    "\n",
    "* The `food` variable will store randomly chosen food, some of these items is in `bakery_stock`, and some are not\n",
    "* Print string depending on if `food` is a value in `bakery_stock`. if a value then print out a string that states how many items left, if not a value print out \"We don't make that\"\n"
   ],
   "metadata": {}
  },
  {
   "cell_type": "code",
   "execution_count": null,
   "source": [
    "# This code picks a random food item:\n",
    "from random import choice \n",
    "food = choice([\"cheese pizza\", \"quiche\",\"morning bun\",\"gummy bear\",\"tea cake\"]) #DON'T CHANGE!\n",
    "\n",
    "#DON'T CHANGE THIS DICTIONARY EITHER!\n",
    "bakery_stock = {\n",
    "    \"almond croissant\" : 12,\n",
    "    \"toffee cookie\": 3,\n",
    "    \"morning bun\": 1,\n",
    "    \"chocolate chunk cookie\": 9,\n",
    "    \"tea cake\": 25\n",
    "}\n",
    "\n",
    "# YOUR CODE GOES BELOW:\n",
    "print(food)\n",
    "if food in bakery_stock:\n",
    "    print(f\"{bakery_stock[food]} left\")\n",
    "else:\n",
    "    print(\"We don't make that\")\n"
   ],
   "outputs": [],
   "metadata": {}
  },
  {
   "cell_type": "markdown",
   "source": [
    "# 5. Fromkeys Exercise\n",
    "\n",
    "use `dict.fromkeys` to generate new dictionary using provided `game_properties` list. initialize all values to 0, save the results in a variable called `initial_game_state`\n"
   ],
   "metadata": {}
  },
  {
   "cell_type": "code",
   "execution_count": null,
   "source": [
    "#DO NOT TOUCH game_properties!\n",
    "game_properties = [\"current_score\", \"high_score\", \"number_of_lives\", \"items_in_inventory\", \"power_ups\", \"ammo\", \"enemies_on_screen\", \"enemy_kills\", \"enemy_kill_streaks\", \"minutes_played\", \"notifications\", \"achievements\"] \n",
    "\n",
    "# Use the game_properties list and dict.fromkeys() to generate a dictionary with all values set to 0. Save the result to a variable called initial_game_state\n",
    "initial_game_state = dict.fromkeys(game_properties, 0)\n",
    "print(initial_game_state)"
   ],
   "outputs": [],
   "metadata": {}
  },
  {
   "cell_type": "markdown",
   "source": [
    "# 6. Dictionary Methods Exercise\n",
    "\n",
    "1. Make a copy of `inventory` and save it ot variable called `stock_list`\n",
    "2. Add the value 18 to `stock_list` under the key \"cookie\"\n",
    "3. Remove the cake from `stock_list` using a dictionary method we've learned\n"
   ],
   "metadata": {}
  },
  {
   "cell_type": "code",
   "execution_count": null,
   "source": [
    "inventory = {'croissant': 19, 'bagel': 4, 'muffin': 8, 'cake': 1} #DON'T CHANGE THIS LINE!\n",
    "\n",
    "# Make a copy of inventory and save it to a variable called stock_list USE A DICTIONARY METHOD\n",
    "stock_list = inventory.copy()\n",
    "print(stock_list)\n",
    "\n",
    "# add the value 18 to stock_list under the key \"cookie\"\n",
    "stock_list.update({\"cookie\": 18})\n",
    "print(stock_list)\n",
    "\n",
    "# remove 'cake' from stock_list USE A DICTIONARY METHOD\n",
    "stock_list.pop(\"cake\")\n",
    "print(stock_list)\n"
   ],
   "outputs": [],
   "metadata": {}
  },
  {
   "cell_type": "markdown",
   "source": [
    "# 7. State Abbreviatons Exercise\n",
    "\n",
    "Given two list, combine both of them"
   ],
   "metadata": {}
  },
  {
   "cell_type": "code",
   "execution_count": null,
   "source": [
    "list1 = [\"CA\", \"NJ\", \"RI\"]\n",
    "list2 = [\"California\", \"New Jersey\", \"Rhode Island\"]\n",
    "\n",
    "answer = {list1[i]: list2[i] for i in range(len(list1))}\n",
    "print(answer)\n"
   ],
   "outputs": [],
   "metadata": {}
  },
  {
   "cell_type": "markdown",
   "source": [
    "# 8. List to Dictionary Exercise\n",
    "\n",
    "Create a dictionary called answer, that makes each fist item in each list a key and the second item a corresponding value.\n"
   ],
   "metadata": {}
  },
  {
   "cell_type": "code",
   "execution_count": null,
   "source": [
    "person = [[\"name\", \"Jared\"], [\"job\", \"Musician\"], [\"city\", \"Bern\"]]\n",
    "answer = dict(person)\n",
    "print(answer)"
   ],
   "outputs": [],
   "metadata": {}
  },
  {
   "cell_type": "markdown",
   "source": [
    "# 9. Vowels Dictionary Exercise\n",
    "\n",
    "Create a dictionary with the key as a vowel in the alphabet with value = 0\n"
   ],
   "metadata": {}
  },
  {
   "cell_type": "code",
   "execution_count": null,
   "source": [
    "answer = {k: 0 for k in \"aieuo\"}\n",
    "print(answer)"
   ],
   "outputs": [],
   "metadata": {}
  },
  {
   "cell_type": "markdown",
   "source": [
    "# 10. ASCII Codes Dictionary\n"
   ],
   "metadata": {}
  },
  {
   "cell_type": "code",
   "execution_count": null,
   "source": [
    "answer = {num: chr(num) for num in range(65,91)}\n",
    "print(answer)"
   ],
   "outputs": [],
   "metadata": {}
  },
  {
   "cell_type": "markdown",
   "source": [
    "# 11. Playlist \n",
    "\n",
    "Combining list and dictionary(incl. nested dict and list)\n"
   ],
   "metadata": {}
  },
  {
   "cell_type": "code",
   "execution_count": null,
   "source": [
    "playlist = {\n",
    "    'name': 'Collection of Songs',\n",
    "    'author': 'Mr. X',\n",
    "    'songs':[\n",
    "        {'title': 'Number 1', 'artist': 'John Doe'},\n",
    "        {'title': 'Car', 'artist': 'Will Smith'}, \n",
    "        {'title': 'The Sun', 'artist': 'Andy'},\n",
    "    ],\n",
    "}\n",
    "\n",
    "for song in playlist['songs']:\n",
    "    print(f\"{song['title']} performed by {song['artist']}\")"
   ],
   "outputs": [],
   "metadata": {}
  }
 ],
 "metadata": {
  "orig_nbformat": 4,
  "language_info": {
   "name": "python",
   "version": "3.9.6",
   "mimetype": "text/x-python",
   "codemirror_mode": {
    "name": "ipython",
    "version": 3
   },
   "pygments_lexer": "ipython3",
   "nbconvert_exporter": "python",
   "file_extension": ".py"
  },
  "kernelspec": {
   "name": "python3",
   "display_name": "Python 3.9.6 64-bit ('miniconda3': virtualenv)"
  },
  "interpreter": {
   "hash": "03be2e0445a1ab447361bd2ab0acfbde57e08d40c05a4921155ca10feb405bd2"
  }
 },
 "nbformat": 4,
 "nbformat_minor": 2
}