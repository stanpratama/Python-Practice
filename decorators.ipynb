{
 "cells": [
  {
   "cell_type": "markdown",
   "source": [
    "# 1. Show Args\n",
    "\n",
    "Write a function called `show_args` which accepts a function and returns another function, `show_args` should be responsible for printing two things: a tuple of the positional arguments, and a dictionary of the keyword argument.\n",
    " "
   ],
   "metadata": {}
  },
  {
   "cell_type": "code",
   "execution_count": null,
   "source": [
    "from functools import wraps\n",
    "\n",
    "\n",
    "def show_args(fn):\n",
    "    @wraps(fn)\n",
    "    def wrapper(*args, **kwargs):\n",
    "        arg = tuple(x for x in args)\n",
    "        kwarg = {k: v for k, v in kwargs.items()}\n",
    "        print(\"Here are the args:{}\".format(arg))\n",
    "        print(\"Here are the kwargs:{}\".format(kwarg))\n",
    "        return fn(*args, **kwargs)\n",
    "    return wrapper\n",
    "\n",
    "\n",
    "@show_args\n",
    "def do_nothing(*args, **kwargs):\n",
    "    pass\n",
    "\n",
    "\n",
    "print(do_nothing(1, 2, 3, a=\"hi\", b=\"bye\"))\n"
   ],
   "outputs": [],
   "metadata": {}
  },
  {
   "cell_type": "markdown",
   "source": [
    "# 2. Double Return\n",
    "\n",
    "Accepts a function and returns another function(returning two copies of their inner function's value).\n"
   ],
   "metadata": {}
  },
  {
   "cell_type": "code",
   "execution_count": null,
   "source": [
    "from functools import wraps\n",
    "\n",
    "\n",
    "def double_return(fn):\n",
    "    @wraps(fn)\n",
    "    def wrapper(*args):\n",
    "        lst = [fn(*args), fn(*args)]\n",
    "        return (lst)\n",
    "    return wrapper\n",
    "\n",
    " \n",
    "@double_return\n",
    "def add(x, y):\n",
    "    return x + y\n",
    "\n",
    "\n",
    "@double_return\n",
    "def greet(name):\n",
    "    return \"Hi, I'm \" + name\n",
    "\n",
    "\n",
    "print(add(1, 2))  # [3, 3]\n",
    "\n",
    "print(greet(\"Colt\"))  # [\"Hi, I'm Colt\", \"Hi, I'm Colt\"]\n"
   ],
   "outputs": [],
   "metadata": {}
  },
  {
   "cell_type": "markdown",
   "source": [
    "# 3. Ensure Fewer Than Three Args\n",
    "\n",
    "Accepts a function and returns another function. Function will be passed if there are fewer than three positional arguments passed to it. otherwaise it should return `Too many arguments!`.\n"
   ],
   "metadata": {}
  },
  {
   "cell_type": "code",
   "execution_count": null,
   "source": [
    "from functools import wraps\n",
    "\n",
    "\n",
    "def ensure_fewer_than_three_args(fn):\n",
    "    @wraps(fn)\n",
    "    def wrapper(*args):\n",
    "        if len(args) >= 3:\n",
    "            return \"Too many arguments!\"\n",
    "        else:\n",
    "            return fn(*args)\n",
    "\n",
    "    return wrapper\n",
    "\n",
    "\n",
    "@ensure_fewer_than_three_args\n",
    "def add_all(*nums):\n",
    "    return sum(nums)\n",
    "\n",
    "\n",
    "print(add_all())  # 0\n",
    "print(add_all(1))  # 1\n",
    "print(add_all(1, 2))  # 3\n",
    "print(add_all(1, 2, 3))  # \"Too many arguments!\"\n",
    "print(add_all(1, 2, 3, 4, 5, 6))  # \"Too many arguments!\"\n"
   ],
   "outputs": [],
   "metadata": {}
  },
  {
   "cell_type": "markdown",
   "source": [
    "# 4. Only Ints\n",
    "\n",
    "Write a function called `only_inits` which accepts a function and returns another function. The function passed to it should only be invoked if all of the arguments passed to it are integers, otherwise return `Please only invoke with integers`.\n"
   ],
   "metadata": {}
  },
  {
   "cell_type": "code",
   "execution_count": null,
   "source": [
    "from functools import wraps\n",
    "\n",
    "\n",
    "def only_ints(fn):\n",
    "    @wraps(fn)\n",
    "    def wrapper(*args):\n",
    "        if type([x for x in args][0]) == int:\n",
    "            return fn(*args)\n",
    "        return \"Please only invoke with integers.\"\n",
    "\n",
    "    return wrapper\n",
    "\n",
    "\n",
    "@only_ints\n",
    "def add(x, y):\n",
    "    return x + y\n",
    "\n",
    "\n",
    "print(add(1, 2))  # 3\n",
    "print(add(\"1\", \"2\"))  # \"Please only invoke with integers.\"\n"
   ],
   "outputs": [],
   "metadata": {}
  },
  {
   "cell_type": "markdown",
   "source": [
    "# 5. Ensure Authorized\n",
    "\n",
    "Write a function called `ensure_authorized` which accepts a function and returns another function. The function passed to it should only be invoked if there exists a keyword argument with a name of `role` and a value of `admin`, Otherwise, the inner function should return `Unauthorized`. "
   ],
   "metadata": {}
  },
  {
   "cell_type": "code",
   "execution_count": null,
   "source": [
    "from functools import wraps\n",
    "\n",
    "def ensure_authorized(fn):\n",
    "    @wraps(fn)\n",
    "    def wrapper(*args, **kwargs):\n",
    "        if kwargs.get('role') == 'admin':\n",
    "            return fn(*args, **kwargs)\n",
    "        return 'Unauthorized'\n",
    "    return wrapper\n",
    "\n",
    "@ensure_authorized\n",
    "def show_secrets(*args, **kwargs):\n",
    "    return \"Shh! Don't tell anybody!\"\n",
    "\n",
    "print(show_secrets(role=\"admin\")) # \"Shh! Don't tell anybody!\"\n",
    "print(show_secrets(role=\"nobody\")) # \"Unauthorized\"\n",
    "print(show_secrets(a=\"b\")) # \"Unauthorized\""
   ],
   "outputs": [],
   "metadata": {}
  },
  {
   "cell_type": "markdown",
   "source": [
    "# 6. Delay\n",
    "\n",
    "Write a function called `delay` which accepts a time and returns an inner function that accepts a function. When used as decorator, `delay` will wait to execute the function by the amount of time passed into it.\n"
   ],
   "metadata": {}
  },
  {
   "cell_type": "code",
   "execution_count": null,
   "source": [
    "from functools import wraps\n",
    "from time import sleep\n",
    "\n",
    "\n",
    "def delay(int):\n",
    "    def decorator(fn):\n",
    "        @wraps(fn)\n",
    "        def wrapper(*args):\n",
    "            print(\"Waiting {}s before running {}\".format(int, fn.__name__))\n",
    "            sleep(int)\n",
    "            return fn(*args)\n",
    "\n",
    "        return wrapper\n",
    "\n",
    "    return decorator\n",
    "\n",
    "\n",
    "@delay(3)\n",
    "def hello_world():\n",
    "    return \"Hello World!\"\n",
    "\n",
    "\n",
    "print(hello_world())\n"
   ],
   "outputs": [],
   "metadata": {}
  }
 ],
 "metadata": {
  "orig_nbformat": 4,
  "language_info": {
   "name": "python",
   "version": "3.9.7",
   "mimetype": "text/x-python",
   "codemirror_mode": {
    "name": "ipython",
    "version": 3
   },
   "pygments_lexer": "ipython3",
   "nbconvert_exporter": "python",
   "file_extension": ".py"
  },
  "kernelspec": {
   "name": "python3",
   "display_name": "Python 3.9.7 64-bit ('base': conda)"
  },
  "interpreter": {
   "hash": "03be2e0445a1ab447361bd2ab0acfbde57e08d40c05a4921155ca10feb405bd2"
  }
 },
 "nbformat": 4,
 "nbformat_minor": 2
}