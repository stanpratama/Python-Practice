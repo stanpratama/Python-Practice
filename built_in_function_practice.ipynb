{
 "cells": [
  {
   "cell_type": "markdown",
   "source": [
    "# 1. Writing Your Own Lambda\n",
    "\n",
    "Write a lambda that accepts a single number and cubes it, save it in a variable called `cube`\n"
   ],
   "metadata": {}
  },
  {
   "cell_type": "code",
   "execution_count": null,
   "source": [
    "cube = lambda num: num**3\n",
    "print(cube(3))\n"
   ],
   "outputs": [],
   "metadata": {}
  },
  {
   "cell_type": "markdown",
   "source": [
    "# 2. Map Time Exercise\n",
    "\n",
    "Write a function called `decrement_list` that accepts a single list of numbers as a parameter. it should return a copy of the list where each item has been decremented by one.\n"
   ],
   "metadata": {}
  },
  {
   "cell_type": "code",
   "execution_count": null,
   "source": [
    "def decrement_list(items):\n",
    "    return list(map(lambda x: x-1, items))\n",
    "print(decrement_list([1,2,3]))\n"
   ],
   "outputs": [],
   "metadata": {}
  },
  {
   "cell_type": "markdown",
   "source": [
    "# 3. Combining Filter and Map\n",
    "\n",
    "Given list names, return a new list with the string \"Your Instructor is \" + each value in the list, but only if the value is less than 5 char.\n"
   ],
   "metadata": {}
  },
  {
   "cell_type": "code",
   "execution_count": null,
   "source": [
    "names = ['Lassie', 'Colt', 'Rusty']\n",
    "\n",
    "new_list = list((map(lambda name: f'Your instructor is {name}', (filter(lambda n: len(n) < 5, names)))))\n",
    "print(new_list)\n",
    "\n",
    "comprehension = [f'Your instructor is {x}' for x in names if len(x) < 5]\n",
    "print(comprehension)"
   ],
   "outputs": [],
   "metadata": {}
  },
  {
   "cell_type": "markdown",
   "source": [
    "# 4. Filter Exercise\n",
    "\n",
    "Write a function called `remove_negative` that accepts a list numbers and returns a copy of the list with all negative number removed.\n"
   ],
   "metadata": {}
  },
  {
   "cell_type": "code",
   "execution_count": null,
   "source": [
    "def remove_negative(lists): \n",
    "    return list((filter(lambda num: num >= 0, lists)))\n",
    "\n",
    "print(remove_negative([-1,3,4,-99]))"
   ],
   "outputs": [],
   "metadata": {}
  },
  {
   "cell_type": "markdown",
   "source": [
    "# Any/All Exercise\n",
    "\n",
    "Implement a function `is_all_strings` that accepts a single iterable and returns `True` if it contains **ONLY** strings, else is false.\n"
   ],
   "metadata": {}
  },
  {
   "cell_type": "code",
   "execution_count": null,
   "source": [
    "def is_all_strings(items):\n",
    "    return all(type(x) is str for x in items)\n",
    "\n",
    "print(is_all_strings(['a','b','c']))\n",
    "print(is_all_strings(['a','b','c', 2]))\n",
    "print(is_all_strings(['car', 'bike']))"
   ],
   "outputs": [],
   "metadata": {}
  }
 ],
 "metadata": {
  "orig_nbformat": 4,
  "language_info": {
   "name": "python",
   "version": "3.9.6",
   "mimetype": "text/x-python",
   "codemirror_mode": {
    "name": "ipython",
    "version": 3
   },
   "pygments_lexer": "ipython3",
   "nbconvert_exporter": "python",
   "file_extension": ".py"
  },
  "kernelspec": {
   "name": "python3",
   "display_name": "Python 3.9.6 64-bit ('base': conda)"
  },
  "interpreter": {
   "hash": "03be2e0445a1ab447361bd2ab0acfbde57e08d40c05a4921155ca10feb405bd2"
  }
 },
 "nbformat": 4,
 "nbformat_minor": 2
}