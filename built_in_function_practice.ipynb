{
 "cells": [
  {
   "cell_type": "markdown",
   "source": [
    "# 1. Writing Your Own Lambda\n",
    "\n",
    "Write a lambda that accepts a single number and cubes it, save it in a variable called `cube`\n"
   ],
   "metadata": {}
  },
  {
   "cell_type": "code",
   "execution_count": null,
   "source": [
    "cube = lambda num: num**3\n",
    "print(cube(3))\n"
   ],
   "outputs": [],
   "metadata": {}
  },
  {
   "cell_type": "markdown",
   "source": [
    "# 2. Map Time Exercise\n",
    "\n",
    "Write a function called `decrement_list` that accepts a single list of numbers as a parameter. it should return a copy of the list where each item has been decremented by one.\n"
   ],
   "metadata": {}
  },
  {
   "cell_type": "code",
   "execution_count": null,
   "source": [
    "def decrement_list(items):\n",
    "    return list(map(lambda x: x-1, items))\n",
    "print(decrement_list([1,2,3]))\n"
   ],
   "outputs": [],
   "metadata": {}
  },
  {
   "cell_type": "markdown",
   "source": [
    "# 3. Combining Filter and Map\n",
    "\n",
    "Given list names, return a new list with the string \"Your Instructor is \" + each value in the list, but only if the value is less than 5 char.\n"
   ],
   "metadata": {}
  },
  {
   "cell_type": "code",
   "execution_count": null,
   "source": [
    "names = ['Lassie', 'Colt', 'Rusty']\n",
    "\n",
    "new_list = list((map(lambda name: f'Your instructor is {name}', (filter(lambda n: len(n) < 5, names)))))\n",
    "print(new_list)\n",
    "\n",
    "comprehension = [f'Your instructor is {x}' for x in names if len(x) < 5]\n",
    "print(comprehension)"
   ],
   "outputs": [],
   "metadata": {}
  },
  {
   "cell_type": "markdown",
   "source": [
    "# 4. Filter Exercise\n",
    "\n",
    "Write a function called `remove_negative` that accepts a list numbers and returns a copy of the list with all negative number removed.\n"
   ],
   "metadata": {}
  },
  {
   "cell_type": "code",
   "execution_count": null,
   "source": [
    "def remove_negative(lists): \n",
    "    return list((filter(lambda num: num >= 0, lists)))\n",
    "\n",
    "print(remove_negative([-1,3,4,-99]))"
   ],
   "outputs": [],
   "metadata": {}
  },
  {
   "cell_type": "markdown",
   "source": [
    "# 5. Any/All Exercise\n",
    "\n",
    "Implement a function `is_all_strings` that accepts a single iterable and returns `True` if it contains **ONLY** strings, else is false.\n"
   ],
   "metadata": {}
  },
  {
   "cell_type": "code",
   "execution_count": null,
   "source": [
    "def is_all_strings(items):\n",
    "    return all(type(x) is str for x in items)\n",
    "\n",
    "print(is_all_strings(['a','b','c']))\n",
    "print(is_all_strings(['a','b','c', 2]))\n",
    "print(is_all_strings(['car', 'bike']))"
   ],
   "outputs": [],
   "metadata": {}
  },
  {
   "cell_type": "markdown",
   "source": [
    "# 6. Min and Max Exercise\n",
    "\n",
    "write a function called `extremes` which accepts an iterable. it should return a tuple containing the minimum and maximum elements.\n"
   ],
   "metadata": {}
  },
  {
   "cell_type": "code",
   "execution_count": null,
   "source": [
    "def extremes(num):\n",
    "    return (min(num), max(num))\n",
    "\n",
    "print(extremes([1,2,3,4,5]))\n",
    "print(extremes(\"alcatraz\"))"
   ],
   "outputs": [],
   "metadata": {}
  },
  {
   "cell_type": "markdown",
   "source": [
    "# 7. Greatest Magnitude Exercise\n",
    "\n",
    "Write a function `max_magnitude`, accepts list of numbers, return the largest magnitude(furthest from zero)\n"
   ],
   "metadata": {}
  },
  {
   "cell_type": "code",
   "execution_count": null,
   "source": [
    "def max_magnitude(mag):\n",
    "    return abs(max(mag, key=lambda n: abs(n)))\n",
    "\n",
    "print(max_magnitude([300, 20, -900]))\n",
    "print(max_magnitude([11, 10, 12]))"
   ],
   "outputs": [],
   "metadata": {}
  },
  {
   "cell_type": "markdown",
   "source": [
    "# 8. Sum Even Values\n",
    "\n",
    "accepts number, sums all even number, return 0 if all numbers are odd.\n"
   ],
   "metadata": {}
  },
  {
   "cell_type": "code",
   "execution_count": null,
   "source": [
    "def sum_even_values(*x):\n",
    "    return sum(num for num in x if num % 2 == 0)\n",
    " \n",
    "print(sum_even_values(1,2,3,4,5,6)) # 12\n",
    "print(sum_even_values(4,2,1,10)) # 16\n",
    "print(sum_even_values(1)) # 0"
   ],
   "outputs": [],
   "metadata": {}
  },
  {
   "cell_type": "markdown",
   "source": [
    "# 9. Sum Floats\n",
    "\n",
    "sum argument that is float\n"
   ],
   "metadata": {}
  },
  {
   "cell_type": "code",
   "execution_count": null,
   "source": [
    "def sum_floats(*args):\n",
    "    return sum(num for num in args if type(num) is float)\n",
    "\n",
    "print(sum_floats(1.5, 2.4, 'awesome', [], 1)) # 3.9\n",
    "print(sum_floats(1,2,3,4,5)) # 0"
   ],
   "outputs": [],
   "metadata": {}
  },
  {
   "cell_type": "markdown",
   "source": [
    "# 10. Interleaving Strings\n",
    "\n",
    "Write a function `interleave` that accepts two strings, it should return a new string containing the inputs interwoven together.\n"
   ],
   "metadata": {}
  },
  {
   "cell_type": "code",
   "execution_count": null,
   "source": [
    "def interleave(string_1, string_2):\n",
    "    new_item = list(zip(string_1, string_2))\n",
    "    new_item = [ins for out in new_item for ins in out]\n",
    "    word = ''\n",
    "    for char in new_item:\n",
    "        word += f'{char}'\n",
    "    return word\n",
    "\n",
    "print(interleave('lzr', 'iad'))\n",
    "print(interleave('aaa', 'zzz'))"
   ],
   "outputs": [],
   "metadata": {}
  },
  {
   "cell_type": "markdown",
   "source": [
    "#  11. Triple and Filter\n",
    "\n",
    "Accept a list of numbers, filter out every number that is not divisible by 4, return a new list where everything is tripled.\n"
   ],
   "metadata": {}
  },
  {
   "cell_type": "code",
   "execution_count": null,
   "source": [
    "def triple_and_filter(nums):\n",
    "    calc = list((map(lambda trip: trip * 3, (filter(lambda div: div % 4 == 0, nums)))))\n",
    "    return calc\n",
    "print(triple_and_filter([1,2,3,4])) # [12]\n",
    "print(triple_and_filter([6,8,10,12])) # [24,36]"
   ],
   "outputs": [],
   "metadata": {}
  },
  {
   "cell_type": "markdown",
   "source": [
    "# 12. Extract Full Name\n",
    "\n",
    "Accepts a list of dictionaries and return a new list of the first and last names.\n",
    "\n"
   ],
   "metadata": {}
  },
  {
   "cell_type": "code",
   "execution_count": null,
   "source": [
    "names = [{'first': 'Elie', 'last': 'Schoppik'}, {'first': 'Colt', 'last': 'Steele'}]\n",
    "\n",
    "def extract_full_name(word):\n",
    "    unpack_the_dict = dict([cont.values() for cont in word])\n",
    "    zipped = list(zip([first for first in unpack_the_dict.keys()], [last for last in unpack_the_dict.values()]))\n",
    "    return [' '.join(zipped[0]) for zipped[0] in zipped]\n",
    "print(extract_full_name(names)) # ['Elie Schoppik', 'Colt Steele']\n"
   ],
   "outputs": [],
   "metadata": {}
  }
 ],
 "metadata": {
  "orig_nbformat": 4,
  "language_info": {
   "name": "python",
   "version": "3.9.6",
   "mimetype": "text/x-python",
   "codemirror_mode": {
    "name": "ipython",
    "version": 3
   },
   "pygments_lexer": "ipython3",
   "nbconvert_exporter": "python",
   "file_extension": ".py"
  },
  "kernelspec": {
   "name": "python3",
   "display_name": "Python 3.9.6 64-bit ('base': conda)"
  },
  "interpreter": {
   "hash": "03be2e0445a1ab447361bd2ab0acfbde57e08d40c05a4921155ca10feb405bd2"
  }
 },
 "nbformat": 4,
 "nbformat_minor": 2
}